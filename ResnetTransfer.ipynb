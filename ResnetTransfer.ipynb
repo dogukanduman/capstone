{
 "cells": [
  {
   "cell_type": "code",
   "execution_count": 1,
   "metadata": {},
   "outputs": [
    {
     "name": "stderr",
     "output_type": "stream",
     "text": [
      "/anaconda3/lib/python3.6/site-packages/h5py/__init__.py:36: FutureWarning: Conversion of the second argument of issubdtype from `float` to `np.floating` is deprecated. In future, it will be treated as `np.float64 == np.dtype(float).type`.\n",
      "  from ._conv import register_converters as _register_converters\n",
      "Using TensorFlow backend.\n"
     ]
    }
   ],
   "source": [
    "import numpy as np\n",
    "from keras.datasets import cifar10\n",
    "\n",
    "#Load the dataset:\n",
    "(X_train, y_train), (X_test, y_test) = cifar10.load_data()"
   ]
  },
  {
   "cell_type": "code",
   "execution_count": 2,
   "metadata": {},
   "outputs": [
    {
     "name": "stdout",
     "output_type": "stream",
     "text": [
      "There are 50000 train images and 10000 test images.\n",
      "There are 10 unique classes to predict.\n"
     ]
    }
   ],
   "source": [
    "print(\"There are {} train images and {} test images.\".format(X_train.shape[0], X_test.shape[0]))\n",
    "print('There are {} unique classes to predict.'.format(np.unique(y_train).shape[0]))"
   ]
  },
  {
   "cell_type": "code",
   "execution_count": 3,
   "metadata": {},
   "outputs": [],
   "source": [
    "#One-hot encoding the labels\n",
    "num_classes = 10\n",
    "from keras.utils import np_utils\n",
    "y_train = np_utils.to_categorical(y_train, num_classes)\n",
    "y_test = np_utils.to_categorical(y_test, num_classes)"
   ]
  },
  {
   "cell_type": "code",
   "execution_count": 4,
   "metadata": {},
   "outputs": [
    {
     "name": "stdout",
     "output_type": "stream",
     "text": [
      "Shape of each image in the training data:  (32, 32, 3)\n"
     ]
    }
   ],
   "source": [
    "from matplotlib import pyplot as plt\n",
    "fig = plt.figure(figsize=(10, 10))\n",
    "\n",
    "for i in range(1, 9):\n",
    "    img = X_train[i-1]\n",
    "    fig.add_subplot(2, 4, i)\n",
    "    plt.imshow(img)\n",
    "\n",
    "print('Shape of each image in the training data: ', X_train.shape[1:])"
   ]
  },
  {
   "cell_type": "code",
   "execution_count": 5,
   "metadata": {},
   "outputs": [],
   "source": [
    "#Importing the necessary libraries \n",
    "from keras.models import Sequential\n",
    "from keras.layers import Dense, Conv2D, MaxPooling2D\n",
    "from keras.layers import Dropout, Flatten, GlobalAveragePooling2D\n",
    "\n",
    "from keras.applications.resnet50 import ResNet50, preprocess_input\n",
    "\n",
    "#Loading the ResNet50 model with pre-trained ImageNet weights\n",
    "model = ResNet50(weights='imagenet', include_top=False)"
   ]
  },
  {
   "cell_type": "code",
   "execution_count": 6,
   "metadata": {},
   "outputs": [],
   "source": [
    "def resizeImage(instance,i):\n",
    "        if i%10==0:\n",
    "            print('{}'.format(i), end=\"\\r\")\n",
    "        \n",
    "        return imresize(instance, (200, 200, 3)) "
   ]
  },
  {
   "cell_type": "code",
   "execution_count": 7,
   "metadata": {},
   "outputs": [
    {
     "name": "stdout",
     "output_type": "stream",
     "text": [
      "0\r",
      "10\r",
      "20\r",
      "30\r",
      "40\r",
      "50\r",
      "60\r",
      "70\r",
      "80\r",
      "90\r",
      "100\r",
      "110\r",
      "120\r",
      "130\r",
      "140\r",
      "150\r",
      "160\r",
      "170\r",
      "180\r",
      "190\r",
      "200\r",
      "210\r",
      "220\r",
      "230\r",
      "240\r",
      "250\r",
      "260\r",
      "270\r",
      "280\r",
      "290\r",
      "300\r",
      "310\r",
      "320\r",
      "330\r",
      "340\r",
      "350\r",
      "360\r"
     ]
    },
    {
     "name": "stderr",
     "output_type": "stream",
     "text": [
      "/anaconda3/lib/python3.6/site-packages/ipykernel_launcher.py:5: DeprecationWarning: `imresize` is deprecated!\n",
      "`imresize` is deprecated in SciPy 1.0.0, and will be removed in 1.2.0.\n",
      "Use ``skimage.transform.resize`` instead.\n",
      "  \"\"\"\n"
     ]
    },
    {
     "name": "stdout",
     "output_type": "stream",
     "text": [
      "49990\r"
     ]
    }
   ],
   "source": [
    "from scipy.misc import imresize\n",
    "X_train_new = np.array([resizeImage(X_train[i],i) for i in range(0, len(X_train))]).astype('float32')"
   ]
  },
  {
   "cell_type": "code",
   "execution_count": 9,
   "metadata": {},
   "outputs": [],
   "source": [
    "resnet_train_input = preprocess_input(X_train_new)\n"
   ]
  },
  {
   "cell_type": "code",
   "execution_count": null,
   "metadata": {},
   "outputs": [],
   "source": [
    "#Creating bottleneck features for the training data\n",
    "train_features = model.predict(resnet_train_input)"
   ]
  },
  {
   "cell_type": "code",
   "execution_count": null,
   "metadata": {},
   "outputs": [],
   "source": [
    "#Saving the bottleneck features\n",
    "np.savez('resnet_features_train', features=train_features)"
   ]
  },
  {
   "cell_type": "code",
   "execution_count": null,
   "metadata": {},
   "outputs": [],
   "source": [
    "#Reshaping the testing data\n",
    "X_test_new = np.array([resizeImage(X_test[i],i)  for i in range(0, len(X_test))]).astype('float32')\n"
   ]
  },
  {
   "cell_type": "code",
   "execution_count": null,
   "metadata": {},
   "outputs": [],
   "source": [
    "#Preprocessing the data, so that it can be fed to the pre-trained ResNet50 model.\n",
    "resnet_test_input = preprocess_input(X_test_new)\n",
    "\n",
    "#Creating bottleneck features for the testing data\n",
    "test_features = model.predict(resnet_test_input)\n",
    "\n",
    "#Saving the bottleneck features\n",
    "np.savez('resnet_features_test', features=test_features)"
   ]
  },
  {
   "cell_type": "code",
   "execution_count": null,
   "metadata": {},
   "outputs": [],
   "source": [
    "model = Sequential()\n",
    "model.add(GlobalAveragePooling2D(input_shape=train_features.shape[1:]))\n",
    "model.add(Dropout(0.3))\n",
    "model.add(Dense(10, activation='softmax'))\n",
    "model.summary()"
   ]
  },
  {
   "cell_type": "code",
   "execution_count": null,
   "metadata": {},
   "outputs": [],
   "source": [
    "model.compile(loss='categorical_crossentropy', optimizer='adam', \n",
    "              metrics=['accuracy'])"
   ]
  },
  {
   "cell_type": "code",
   "execution_count": null,
   "metadata": {},
   "outputs": [],
   "source": [
    "#Creating a checkpointer \n",
    "from keras.callbacks import ModelCheckpoint  \n",
    "checkpointer = ModelCheckpoint(filepath='scratchmodel.best.hdf5', \n",
    "                               verbose=1,save_best_only=True)"
   ]
  },
  {
   "cell_type": "code",
   "execution_count": null,
   "metadata": {},
   "outputs": [],
   "source": [
    "model.fit(train_features, y_train, batch_size=32, epochs=10,\n",
    "          validation_split=0.2, callbacks=[checkpointer], verbose=1, shuffle=True)"
   ]
  },
  {
   "cell_type": "code",
   "execution_count": null,
   "metadata": {},
   "outputs": [],
   "source": [
    "#Evaluate the model on the test data\n",
    "score  = model.evaluate(test_features, y_test)\n",
    "\n",
    "#Accuracy on test data\n",
    "print('Accuracy on the Test Images: ', score[1])"
   ]
  },
  {
   "cell_type": "code",
   "execution_count": null,
   "metadata": {},
   "outputs": [],
   "source": []
  },
  {
   "cell_type": "code",
   "execution_count": null,
   "metadata": {},
   "outputs": [],
   "source": []
  }
 ],
 "metadata": {
  "kernelspec": {
   "display_name": "Python 3",
   "language": "python",
   "name": "python3"
  },
  "language_info": {
   "codemirror_mode": {
    "name": "ipython",
    "version": 3
   },
   "file_extension": ".py",
   "mimetype": "text/x-python",
   "name": "python",
   "nbconvert_exporter": "python",
   "pygments_lexer": "ipython3",
   "version": "3.6.4"
  }
 },
 "nbformat": 4,
 "nbformat_minor": 2
}
